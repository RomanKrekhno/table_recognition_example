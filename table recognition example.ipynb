{
 "cells": [
  {
   "cell_type": "code",
   "execution_count": 22,
   "metadata": {},
   "outputs": [],
   "source": [
    "import fitz\n",
    "import cv2\n",
    "import numpy as np\n",
    "import os\n",
    "import pytesseract\n",
    "\n",
    "pdf_dict = {}\n",
    "file = r\"file path\"\n",
    "\n",
    "def get_contours(image):\n",
    "    # remove color info\n",
    "    gray_image= image[:,:,0]\n",
    "\n",
    "    # (1) thresholding image\n",
    "    ret,thresh_value = cv2.threshold(gray_image,180,255,cv2.THRESH_BINARY_INV)\n",
    "\n",
    "    # (2) dilating image to glue letter with e/a\n",
    "    kernel = np.ones((2,2),np.uint8)    \n",
    "    dilated_value = cv2.dilate(thresh_value,kernel,iterations = 1)\n",
    "\n",
    "    # (3) looking for countours\n",
    "    contours, hierarchy = cv2.findContours(dilated_value,cv2.RETR_TREE,cv2.CHAIN_APPROX_SIMPLE)\n",
    "\n",
    "    # (4) extracting coordinates and filtering them empirically \n",
    "    coordinates = []\n",
    "    for contour in contours:\n",
    "        x,y,w,h = cv2.boundingRect(contour)\n",
    "        if h> 50 and w>50 and h*w<350000:  \n",
    "            coordinates.append((x,y,w,h))\n",
    "    return coordinates\n",
    "\n",
    "def sort2(val):   #helper for sorting by y\n",
    "    return val[1]  \n",
    "\n",
    "def recognize_table(image,coordinates):\n",
    "    recognized_table = row = []\n",
    "    prev_y = 0\n",
    "    coordinates.sort() #sort by x\n",
    "    coordinates.sort(key = sort2) # sort by y\n",
    "    for coord in coordinates:\n",
    "        x,y,w,h = coord\n",
    "        if y>prev_y+5: #new row if y is changed\n",
    "            recognized_table.append(row)\n",
    "            row = [] \n",
    "        crop_img = image[y:y+h, x:x+w]\n",
    "        recognized_string = pytesseract.image_to_string(crop_img, lang=\"rus\")\n",
    "        row.append(recognized_string.replace(\"\\n\",\" \"))\n",
    "        prev_y = y\n",
    "    return recognized_table"
   ]
  },
  {
   "cell_type": "code",
   "execution_count": null,
   "metadata": {},
   "outputs": [],
   "source": [
    "pages = []\n",
    "doc = fitz.open(file)\n",
    "for n in range(doc.pageCount):\n",
    "    page = doc.loadPage(n)\n",
    "    pix = page.getPixmap() \n",
    "    image = np.frombuffer(pix.samples, \n",
    "        dtype=np.uint8).reshape(pix.h, pix.w, pix.n)\n",
    "    image = np.ascontiguousarray(image[..., [2, 1, 0]])  \n",
    "    pages.append(image)  "
   ]
  },
  {
   "cell_type": "code",
   "execution_count": 24,
   "metadata": {},
   "outputs": [],
   "source": [
    "for page in pages:\n",
    "    contours_coords = get_contours(page)\n",
    "    print(recognize_table(page,contours_coords))"
   ]
  },
  {
   "cell_type": "code",
   "execution_count": null,
   "metadata": {},
   "outputs": [],
   "source": []
  },
  {
   "cell_type": "code",
   "execution_count": null,
   "metadata": {},
   "outputs": [],
   "source": []
  }
 ],
 "metadata": {
  "kernelspec": {
   "display_name": "Python 3",
   "language": "python",
   "name": "python3"
  },
  "language_info": {
   "codemirror_mode": {
    "name": "ipython",
    "version": 3
   },
   "file_extension": ".py",
   "mimetype": "text/x-python",
   "name": "python",
   "nbconvert_exporter": "python",
   "pygments_lexer": "ipython3",
   "version": "3.7.6"
  }
 },
 "nbformat": 4,
 "nbformat_minor": 4
}
